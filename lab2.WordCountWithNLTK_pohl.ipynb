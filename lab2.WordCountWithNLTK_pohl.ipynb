{
 "cells": [
  {
   "cell_type": "code",
   "execution_count": 1,
   "metadata": {
    "collapsed": false
   },
   "outputs": [
    {
     "name": "stdout",
     "output_type": "stream",
     "text": [
      "[nltk_data] Downloading package punkt to /Users/Toni/nltk_data...\n",
      "[nltk_data]   Package punkt is already up-to-date!\n",
      "[(u'the', 1352), (u',', 1262), (u'.', 820), (u')', 645), (u'(', 644), (u'of', 593), (u'to', 504), (u'a', 476), (u':', 456), (u'in', 422)]\n"
     ]
    }
   ],
   "source": [
    "import nltk\n",
    "nltk.download('punkt')\n",
    "import string\n",
    "import io\n",
    "\n",
    "from collections import Counter\n",
    "\n",
    "def get_tokens():\n",
    "    with io.open('FirstContactWithTensorFlow.txt', 'r', encoding='utf-8') as tf:\n",
    "        text = tf.read()\n",
    "        tokens = nltk.word_tokenize(text)\n",
    "        return tokens\n",
    "\n",
    "tokens = get_tokens()\n",
    "count = Counter(tokens)\n",
    "print count.most_common(10)    "
   ]
  },
  {
   "cell_type": "code",
   "execution_count": 2,
   "metadata": {
    "collapsed": false
   },
   "outputs": [
    {
     "name": "stdout",
     "output_type": "stream",
     "text": [
      "[nltk_data] Downloading package punkt to /Users/Toni/nltk_data...\n",
      "[nltk_data]   Package punkt is already up-to-date!\n",
      "25482\n"
     ]
    }
   ],
   "source": [
    "import nltk\n",
    "nltk.download('punkt')\n",
    "import string\n",
    "import io\n",
    "\n",
    "from collections import Counter\n",
    "\n",
    "def get_tokens():\n",
    "    with io.open('FirstContactWithTensorFlow.txt', 'r', encoding='utf-8') as tf:\n",
    "        text = tf.read()\n",
    "        tokens = nltk.word_tokenize(text)\n",
    "        return tokens\n",
    "\n",
    "tokens = get_tokens()\n",
    "count = Counter(tokens)\n",
    "print reduce(lambda acc, val: acc + val[1], count.most_common(), 0)  "
   ]
  },
  {
   "cell_type": "code",
   "execution_count": 6,
   "metadata": {
    "collapsed": false
   },
   "outputs": [
    {
     "name": "stdout",
     "output_type": "stream",
     "text": [
      "[nltk_data] Downloading package punkt to /Users/Toni/nltk_data...\n",
      "[nltk_data]   Package punkt is already up-to-date!\n",
      "[(u'the', 1457), (u'of', 593), (u'to', 544), (u'in', 507), (u'a', 500), (u'and', 364), (u'is', 295), (u'we', 283), (u'that', 276), (u'this', 268)]\n"
     ]
    }
   ],
   "source": [
    "import nltk\n",
    "nltk.download('punkt')\n",
    "import string\n",
    "import io\n",
    "\n",
    "from collections import Counter\n",
    "\n",
    "def get_tokens():\n",
    "    with io.open('FirstContactWithTensorFlow.txt', 'r', encoding='utf-8') as tf:\n",
    "        text = tf.read().lower()\n",
    "        tokens = nltk.word_tokenize(text)\n",
    "        return [token for token in tokens if token.isalnum()]\n",
    "\n",
    "tokens = get_tokens()\n",
    "count = Counter(tokens)\n",
    "print count.most_common(10)    "
   ]
  },
  {
   "cell_type": "code",
   "execution_count": 9,
   "metadata": {
    "collapsed": false
   },
   "outputs": [
    {
     "name": "stdout",
     "output_type": "stream",
     "text": [
      "[nltk_data] Downloading package punkt to /Users/Toni/nltk_data...\n",
      "[nltk_data]   Package punkt is already up-to-date!\n",
      "[(u'tensorflow', 193), (u'data', 106), (u'tensor', 92), (u'code', 90), (u'learning', 89), (u'dimension', 84), (u'function', 74), (u'one', 73), (u'1', 73), (u'use', 66)]\n"
     ]
    }
   ],
   "source": [
    "import nltk\n",
    "from nltk.corpus import stopwords\n",
    "nltk.download('punkt')\n",
    "import string\n",
    "import io\n",
    "\n",
    "from collections import Counter\n",
    "\n",
    "def get_tokens():\n",
    "    with io.open('FirstContactWithTensorFlow.txt', 'r', encoding='utf-8') as tf:\n",
    "        text = tf.read().lower()\n",
    "        tokens = nltk.word_tokenize(text)\n",
    "        return [token for token in tokens if token.isalnum()]\n",
    "\n",
    "tokens = get_tokens()\n",
    "filtered = [w for w in tokens if not w in stopwords.words('english')]\n",
    "count = Counter(filtered)\n",
    "print count.most_common(10)    "
   ]
  },
  {
   "cell_type": "code",
   "execution_count": null,
   "metadata": {
    "collapsed": true
   },
   "outputs": [],
   "source": []
  },
  {
   "cell_type": "code",
   "execution_count": null,
   "metadata": {
    "collapsed": true
   },
   "outputs": [],
   "source": []
  }
 ],
 "metadata": {
  "kernelspec": {
   "display_name": "Python 2",
   "language": "python",
   "name": "python2"
  },
  "language_info": {
   "codemirror_mode": {
    "name": "ipython",
    "version": 2
   },
   "file_extension": ".py",
   "mimetype": "text/x-python",
   "name": "python",
   "nbconvert_exporter": "python",
   "pygments_lexer": "ipython2",
   "version": "2.7.13"
  }
 },
 "nbformat": 4,
 "nbformat_minor": 2
}
