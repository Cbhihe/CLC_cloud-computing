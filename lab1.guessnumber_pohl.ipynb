{
 "cells": [
  {
   "cell_type": "code",
   "execution_count": null,
   "metadata": {
    "collapsed": true
   },
   "outputs": [],
   "source": [
    "import random\n",
    "\n",
    "# State constants\n",
    "ABORTED = 0\n",
    "GUESSED_RIGHT = 1\n",
    "GUESSED_WRONG = 2\n",
    "\n",
    "# Guess boundaries\n",
    "MIN_GUESS = 1\n",
    "MAX_GUESS = 20\n",
    "\n",
    "# Format the question text\n",
    "QUESTION = \"Please guess the number between {} and {}: \".format(MIN_GUESS, MAX_GUESS)\n",
    "\n",
    "# init the random number\n",
    "guessNum = random.randint(MIN_GUESS, MAX_GUESS)\n",
    "\n",
    "# Starts the game\n",
    "# Returns True if guessed correctly else false\n",
    "def game_round():\n",
    "\ttry:\n",
    "\t\tinput_string = raw_input(QUESTION)\n",
    "\n",
    "\t\t# Abort\n",
    "\t\tif input_string == \"exit\":\n",
    "\t\t\treturn ABORTED\n",
    "\n",
    "\t\t# parse guess\n",
    "\t\tguess = int(input_string)\n",
    "\n",
    "\t\t# Guess out of boundaries\n",
    "\t\tif guess < MIN_GUESS or guess > MAX_GUESS:\n",
    "\t\t\treturn GUESSED_WRONG\n",
    "\n",
    "\t\t# Guess too high\n",
    "\t\tif guess > guessNum:\n",
    "\t\t\tprint \"Your guessed number is too high.\"\n",
    "\t\t\treturn GUESSED_WRONG\n",
    "\n",
    "\t\t# Guess too low\n",
    "\t\tif guess < guessNum:\n",
    "\t\t\tprint \"Your guessed number is too low.\"\t\n",
    "\t\t\treturn GUESSED_WRONG\n",
    "\texcept:\n",
    "\t\t# Wrong input\n",
    "\t\tprint \"Please write a valid whole number.\"\n",
    "\t\treturn GUESSED_WRONG\n",
    "\n",
    "\treturn GUESSED_RIGHT\t\n",
    "\n",
    "# The game function\n",
    "def game():\n",
    "\tstate = GUESSED_WRONG\n",
    "\twhile(state == GUESSED_WRONG):\n",
    "\t\tstate = game_round()\n",
    "\n",
    "\tif state == ABORTED:\n",
    "\t\tprint \"Thanks for playing! Good luck next time!\"\n",
    "\telif state == GUESSED_RIGHT:\n",
    "\t\tprint \"You guessed {}!\".format(guessNum)\n",
    "\n",
    "if __name__ == \"__main__\":\n",
    "\tprint \"Welcome to guess the number! To abort the game write \\\"exit\\\".\"\n",
    "\tgame()"
   ]
  }
 ],
 "metadata": {
  "kernelspec": {
   "display_name": "Python 2",
   "language": "python",
   "name": "python2"
  },
  "language_info": {
   "codemirror_mode": {
    "name": "ipython",
    "version": 2
   },
   "file_extension": ".py",
   "mimetype": "text/x-python",
   "name": "python",
   "nbconvert_exporter": "python",
   "pygments_lexer": "ipython2",
   "version": "2.7.13"
  }
 },
 "nbformat": 4,
 "nbformat_minor": 2
}
